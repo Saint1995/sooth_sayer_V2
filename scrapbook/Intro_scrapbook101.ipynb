{
 "cells": [
  {
   "cell_type": "markdown",
   "metadata": {},
   "source": [
    "# Introduction to Data Science\n"
   ]
  },
  {
   "cell_type": "markdown",
   "metadata": {},
   "source": [
    "This file contains introductory test codes. To get the hang of Numpy, and its functons"
   ]
  },
  {
   "cell_type": "code",
   "execution_count": 1,
   "metadata": {},
   "outputs": [],
   "source": [
    "import numpy as np"
   ]
  },
  {
   "cell_type": "code",
   "execution_count": 2,
   "metadata": {},
   "outputs": [
    {
     "name": "stdout",
     "output_type": "stream",
     "text": [
      "C:\\Users\\Samuel Theophilus\n"
     ]
    }
   ],
   "source": [
    "cd\n"
   ]
  },
  {
   "cell_type": "code",
   "execution_count": 3,
   "metadata": {},
   "outputs": [
    {
     "name": "stdout",
     "output_type": "stream",
     "text": [
      "[\"'ls' is not recognized as an internal or external command,\", 'operable program or batch file.']\n"
     ]
    }
   ],
   "source": [
    "content=!ls\n",
    "print(content)"
   ]
  },
  {
   "cell_type": "code",
   "execution_count": 4,
   "metadata": {},
   "outputs": [
    {
     "data": {
      "text/plain": [
       "array([ 1,  2,  3,  4,  5,  6,  7,  8,  9, 10, 11, 12, 13, 14, 15, 16, 17,\n",
       "       18, 19, 20, 21, 22, 23, 24, 25, 26, 27, 28, 29])"
      ]
     },
     "execution_count": 4,
     "metadata": {},
     "output_type": "execute_result"
    }
   ],
   "source": [
    "np.arange(1,30)"
   ]
  },
  {
   "cell_type": "code",
   "execution_count": 5,
   "metadata": {},
   "outputs": [],
   "source": [
    "x=np.arange(1,8,2)"
   ]
  },
  {
   "cell_type": "code",
   "execution_count": 6,
   "metadata": {},
   "outputs": [
    {
     "name": "stdout",
     "output_type": "stream",
     "text": [
      "[1 3 5 7]\n"
     ]
    }
   ],
   "source": [
    "print(x)"
   ]
  },
  {
   "cell_type": "code",
   "execution_count": 7,
   "metadata": {},
   "outputs": [
    {
     "name": "stdout",
     "output_type": "stream",
     "text": [
      "1\n",
      "(4,)\n"
     ]
    }
   ],
   "source": [
    "print(x.ndim)\n",
    "print(x.shape)"
   ]
  },
  {
   "cell_type": "code",
   "execution_count": 8,
   "metadata": {},
   "outputs": [
    {
     "data": {
      "text/plain": [
       "array([[ 0,  1,  2,  3,  4,  5,  6],\n",
       "       [ 7,  8,  9, 10, 11, 12, 13],\n",
       "       [14, 15, 16, 17, 18, 19, 20]])"
      ]
     },
     "execution_count": 8,
     "metadata": {},
     "output_type": "execute_result"
    }
   ],
   "source": [
    "#using numpy functions\n",
    "x=np.arange(0,21)\n",
    "x.reshape(3,7)"
   ]
  },
  {
   "cell_type": "code",
   "execution_count": 9,
   "metadata": {},
   "outputs": [
    {
     "data": {
      "text/plain": [
       "21"
      ]
     },
     "execution_count": 9,
     "metadata": {},
     "output_type": "execute_result"
    }
   ],
   "source": [
    "x.size"
   ]
  },
  {
   "cell_type": "code",
   "execution_count": 14,
   "metadata": {},
   "outputs": [],
   "source": [
    "x=x.reshape(3,7)"
   ]
  },
  {
   "cell_type": "code",
   "execution_count": 15,
   "metadata": {},
   "outputs": [
    {
     "name": "stdout",
     "output_type": "stream",
     "text": [
      "[[20 19 18 17 16 15 14]\n",
      " [13 12 11 10  9  8  7]\n",
      " [ 6  5  4  3  2  1  0]]\n"
     ]
    }
   ],
   "source": [
    "print(x[::-1,::-1])"
   ]
  },
  {
   "cell_type": "code",
   "execution_count": 17,
   "metadata": {
    "scrolled": true
   },
   "outputs": [
    {
     "name": "stdout",
     "output_type": "stream",
     "text": [
      "[[ 0  1  2]\n",
      " [ 3  4  5]\n",
      " [ 6  7  8]\n",
      " [ 9 10 11]\n",
      " [12 13 14]\n",
      " [15 16 17]\n",
      " [18 19 20]]\n"
     ]
    }
   ],
   "source": [
    "print(x.reshape(7,3))"
   ]
  },
  {
   "cell_type": "code",
   "execution_count": 18,
   "metadata": {},
   "outputs": [
    {
     "name": "stdout",
     "output_type": "stream",
     "text": [
      "[[      1       2       4       8      16      32      64]\n",
      " [    128     256     512    1024    2048    4096    8192]\n",
      " [  16384   32768   65536  131072  262144  524288 1048576]]\n"
     ]
    }
   ],
   "source": [
    "# using ufuncs\n",
    "exp=2**x\n",
    "print(exp)"
   ]
  },
  {
   "cell_type": "code",
   "execution_count": 19,
   "metadata": {},
   "outputs": [
    {
     "name": "stdout",
     "output_type": "stream",
     "text": [
      "[ 0  8 16]\n"
     ]
    }
   ],
   "source": [
    "mask=x[x%8==0]\n",
    "print(mask)"
   ]
  },
  {
   "cell_type": "code",
   "execution_count": 20,
   "metadata": {
    "scrolled": true
   },
   "outputs": [
    {
     "name": "stdout",
     "output_type": "stream",
     "text": [
      "20\n"
     ]
    }
   ],
   "source": [
    "print(x.max())"
   ]
  },
  {
   "cell_type": "code",
   "execution_count": 24,
   "metadata": {},
   "outputs": [
    {
     "data": {
      "text/plain": [
       "<matplotlib.collections.PathCollection at 0x1ac2b6d15f8>"
      ]
     },
     "execution_count": 24,
     "metadata": {},
     "output_type": "execute_result"
    },
    {
     "data": {
      "image/png": "[encoded data removed]",
      "text/plain": [
       "<Figure size 432x288 with 1 Axes>"
      ]
     },
     "metadata": {
      "needs_background": "light"
     },
     "output_type": "display_data"
    }
   ],
   "source": [
    "import matplotlib.pyplot as plt\n",
    "#ploting basic graph\n",
    "plt.scatter(x.reshape(1,21),np.arange(0,42,2).reshape(1,21))\n"
   ]
  },
  {
   "cell_type": "code",
   "execution_count": 52,
   "metadata": {},
   "outputs": [
    {
     "name": "stdout",
     "output_type": "stream",
     "text": [
      "    type  location  current_price  years  brand  resell_price\n",
      "0      1         1         165000    1.0      1         85000\n",
      "1      2         1          50000    1.0      2         20000\n",
      "2      1         2          58000    2.0      1         30000\n",
      "3      2         3          30000    0.4      3         21000\n",
      "4      3         1         240000    1.0      4        160000\n",
      "5      3         4         120000    2.0      5         55000\n",
      "6      2         5          20000    2.0      6         20000\n",
      "7      3         1         120000    3.0      5         50000\n",
      "8      3         6         100000    2.0      4         35000\n",
      "9      2         9          95000    2.0      1         95000\n",
      "10     2         1         320000    1.0      7        250000\n",
      "11     3         7         250000    2.0      5        110000\n",
      "12     2         4          50000    1.0      8         25000\n",
      "13     3         8         160000    3.0      9         65000\n",
      "14     2         9          45000    1.0      6         25000\n"
     ]
    }
   ],
   "source": [
    "import pandas as pd\n",
    "\n",
    "column_names = ['type','location','current_price','years','brand','resell_price']\n",
    "raw_data=pd.read_csv('C:\\\\Users\\Samuel Theophilus\\\\PycharmProjects\\\\ML101\\\\data.csv',names=column_names)\n",
    "print(raw_data)\n"
   ]
  },
  {
   "cell_type": "code",
   "execution_count": 53,
   "metadata": {
    "scrolled": true
   },
   "outputs": [
    {
     "data": {
      "text/plain": [
       "Text(0, 0.5, 'Occurences')"
      ]
     },
     "execution_count": 53,
     "metadata": {},
     "output_type": "execute_result"
    },
    {
     "data": {
      "image/png": "[encoded data removed]",
      "text/plain": [
       "<Figure size 432x288 with 1 Axes>"
      ]
     },
     "metadata": {
      "needs_background": "light"
     },
     "output_type": "display_data"
    }
   ],
   "source": [
    "plt.hist(np.array(raw_data['current_price']))\n",
    "plt.title('Price of Fairly Used Gadgets')\n",
    "plt.xlabel('Price (Naira)')\n",
    "plt.ylabel('Occurences')\n"
   ]
  },
  {
   "cell_type": "markdown",
   "metadata": {},
   "source": [
    "# Feature Engineering Intro"
   ]
  },
  {
   "cell_type": "markdown",
   "metadata": {},
   "source": [
    "The Data Set imported contains information about fairly used devices.The aim is to try predicting the price of buying a Fairly used Gadget(Tablet, Phone, Nigeria).\n",
    "\n",
    "This execrise uses the Following as Features:\n",
    "- Price of New Item\n",
    "- Number of Years Item has been used\n",
    "- Region of Purchase\n",
    "- Type of Gadget &\n",
    "- Brand of Gadget\n",
    "\n",
    "\n",
    "I tried to improve the Data\n",
    "\n",
    "1.Modify data for train data for location"
   ]
  },
  {
   "cell_type": "code",
   "execution_count": 54,
   "metadata": {},
   "outputs": [
    {
     "data": {
      "text/html": [
       "<div>\n",
       "<style scoped>\n",
       "    .dataframe tbody tr th:only-of-type {\n",
       "        vertical-align: middle;\n",
       "    }\n",
       "\n",
       "    .dataframe tbody tr th {\n",
       "        vertical-align: top;\n",
       "    }\n",
       "\n",
       "    .dataframe thead th {\n",
       "        text-align: right;\n",
       "    }\n",
       "</style>\n",
       "<table border=\"1\" class=\"dataframe\">\n",
       "  <thead>\n",
       "    <tr style=\"text-align: right;\">\n",
       "      <th></th>\n",
       "      <th>type</th>\n",
       "      <th>current_price</th>\n",
       "      <th>years</th>\n",
       "      <th>brand</th>\n",
       "      <th>resell_price</th>\n",
       "      <th>Abuja</th>\n",
       "      <th>Taraba</th>\n",
       "      <th>Kogi</th>\n",
       "      <th>Gombe</th>\n",
       "      <th>Bauchi</th>\n",
       "      <th>Adamawa</th>\n",
       "      <th>Kano</th>\n",
       "      <th>Lagos</th>\n",
       "      <th>Other</th>\n",
       "    </tr>\n",
       "  </thead>\n",
       "  <tbody>\n",
       "    <tr>\n",
       "      <th>10</th>\n",
       "      <td>2</td>\n",
       "      <td>320000</td>\n",
       "      <td>1.0</td>\n",
       "      <td>7</td>\n",
       "      <td>250000</td>\n",
       "      <td>1.0</td>\n",
       "      <td>0.0</td>\n",
       "      <td>0.0</td>\n",
       "      <td>0.0</td>\n",
       "      <td>0.0</td>\n",
       "      <td>0.0</td>\n",
       "      <td>0.0</td>\n",
       "      <td>0.0</td>\n",
       "      <td>0.0</td>\n",
       "    </tr>\n",
       "    <tr>\n",
       "      <th>11</th>\n",
       "      <td>3</td>\n",
       "      <td>250000</td>\n",
       "      <td>2.0</td>\n",
       "      <td>5</td>\n",
       "      <td>110000</td>\n",
       "      <td>0.0</td>\n",
       "      <td>0.0</td>\n",
       "      <td>0.0</td>\n",
       "      <td>0.0</td>\n",
       "      <td>0.0</td>\n",
       "      <td>0.0</td>\n",
       "      <td>1.0</td>\n",
       "      <td>0.0</td>\n",
       "      <td>0.0</td>\n",
       "    </tr>\n",
       "    <tr>\n",
       "      <th>12</th>\n",
       "      <td>2</td>\n",
       "      <td>50000</td>\n",
       "      <td>1.0</td>\n",
       "      <td>8</td>\n",
       "      <td>25000</td>\n",
       "      <td>0.0</td>\n",
       "      <td>0.0</td>\n",
       "      <td>0.0</td>\n",
       "      <td>1.0</td>\n",
       "      <td>0.0</td>\n",
       "      <td>0.0</td>\n",
       "      <td>0.0</td>\n",
       "      <td>0.0</td>\n",
       "      <td>0.0</td>\n",
       "    </tr>\n",
       "    <tr>\n",
       "      <th>13</th>\n",
       "      <td>3</td>\n",
       "      <td>160000</td>\n",
       "      <td>3.0</td>\n",
       "      <td>9</td>\n",
       "      <td>65000</td>\n",
       "      <td>0.0</td>\n",
       "      <td>0.0</td>\n",
       "      <td>0.0</td>\n",
       "      <td>0.0</td>\n",
       "      <td>0.0</td>\n",
       "      <td>0.0</td>\n",
       "      <td>0.0</td>\n",
       "      <td>1.0</td>\n",
       "      <td>0.0</td>\n",
       "    </tr>\n",
       "    <tr>\n",
       "      <th>14</th>\n",
       "      <td>2</td>\n",
       "      <td>45000</td>\n",
       "      <td>1.0</td>\n",
       "      <td>6</td>\n",
       "      <td>25000</td>\n",
       "      <td>0.0</td>\n",
       "      <td>0.0</td>\n",
       "      <td>0.0</td>\n",
       "      <td>0.0</td>\n",
       "      <td>0.0</td>\n",
       "      <td>0.0</td>\n",
       "      <td>0.0</td>\n",
       "      <td>0.0</td>\n",
       "      <td>1.0</td>\n",
       "    </tr>\n",
       "  </tbody>\n",
       "</table>\n",
       "</div>"
      ],
      "text/plain": [
       "    type  current_price  years  brand  resell_price  Abuja  Taraba  Kogi  \\\n",
       "10     2         320000    1.0      7        250000    1.0     0.0   0.0   \n",
       "11     3         250000    2.0      5        110000    0.0     0.0   0.0   \n",
       "12     2          50000    1.0      8         25000    0.0     0.0   0.0   \n",
       "13     3         160000    3.0      9         65000    0.0     0.0   0.0   \n",
       "14     2          45000    1.0      6         25000    0.0     0.0   0.0   \n",
       "\n",
       "    Gombe  Bauchi  Adamawa  Kano  Lagos  Other  \n",
       "10    0.0     0.0      0.0   0.0    0.0    0.0  \n",
       "11    0.0     0.0      0.0   1.0    0.0    0.0  \n",
       "12    1.0     0.0      0.0   0.0    0.0    0.0  \n",
       "13    0.0     0.0      0.0   0.0    1.0    0.0  \n",
       "14    0.0     0.0      0.0   0.0    0.0    1.0  "
      ]
     },
     "execution_count": 54,
     "metadata": {},
     "output_type": "execute_result"
    }
   ],
   "source": [
    "origin = raw_data.pop('location')\n",
    "raw_data['Abuja'] = (origin == 1)*1.0\n",
    "raw_data['Taraba'] = (origin == 2)*1.0\n",
    "raw_data['Kogi'] = (origin == 3)*1.0\n",
    "raw_data['Gombe'] = (origin == 4)*1.0\n",
    "raw_data['Bauchi'] = (origin == 5)*1.0\n",
    "raw_data['Adamawa'] = (origin == 6)*1.0\n",
    "raw_data['Kano'] = (origin == 7)*1.0\n",
    "raw_data['Lagos'] = (origin == 8)*1.0\n",
    "raw_data['Other'] = (origin == 9)*1.0\n",
    "\n",
    "raw_data.tail()"
   ]
  },
  {
   "cell_type": "markdown",
   "metadata": {},
   "source": [
    "2.Modify data for train for brands\n",
    "\n"
   ]
  },
  {
   "cell_type": "code",
   "execution_count": 55,
   "metadata": {},
   "outputs": [
    {
     "data": {
      "text/html": [
       "<div>\n",
       "<style scoped>\n",
       "    .dataframe tbody tr th:only-of-type {\n",
       "        vertical-align: middle;\n",
       "    }\n",
       "\n",
       "    .dataframe tbody tr th {\n",
       "        vertical-align: top;\n",
       "    }\n",
       "\n",
       "    .dataframe thead th {\n",
       "        text-align: right;\n",
       "    }\n",
       "</style>\n",
       "<table border=\"1\" class=\"dataframe\">\n",
       "  <thead>\n",
       "    <tr style=\"text-align: right;\">\n",
       "      <th></th>\n",
       "      <th>type</th>\n",
       "      <th>current_price</th>\n",
       "      <th>years</th>\n",
       "      <th>resell_price</th>\n",
       "      <th>Abuja</th>\n",
       "      <th>Taraba</th>\n",
       "      <th>Kogi</th>\n",
       "      <th>Gombe</th>\n",
       "      <th>Bauchi</th>\n",
       "      <th>Adamawa</th>\n",
       "      <th>...</th>\n",
       "      <th>Samsung</th>\n",
       "      <th>Blackberry</th>\n",
       "      <th>HTC</th>\n",
       "      <th>Dell</th>\n",
       "      <th>HP</th>\n",
       "      <th>Gionee</th>\n",
       "      <th>Techno</th>\n",
       "      <th>Apple</th>\n",
       "      <th>Huawei</th>\n",
       "      <th>Lenovo</th>\n",
       "    </tr>\n",
       "  </thead>\n",
       "  <tbody>\n",
       "    <tr>\n",
       "      <th>10</th>\n",
       "      <td>2</td>\n",
       "      <td>320000</td>\n",
       "      <td>1.0</td>\n",
       "      <td>250000</td>\n",
       "      <td>1.0</td>\n",
       "      <td>0.0</td>\n",
       "      <td>0.0</td>\n",
       "      <td>0.0</td>\n",
       "      <td>0.0</td>\n",
       "      <td>0.0</td>\n",
       "      <td>...</td>\n",
       "      <td>0.0</td>\n",
       "      <td>0.0</td>\n",
       "      <td>0.0</td>\n",
       "      <td>0.0</td>\n",
       "      <td>0.0</td>\n",
       "      <td>0.0</td>\n",
       "      <td>0.0</td>\n",
       "      <td>1.0</td>\n",
       "      <td>0.0</td>\n",
       "      <td>0.0</td>\n",
       "    </tr>\n",
       "    <tr>\n",
       "      <th>11</th>\n",
       "      <td>3</td>\n",
       "      <td>250000</td>\n",
       "      <td>2.0</td>\n",
       "      <td>110000</td>\n",
       "      <td>0.0</td>\n",
       "      <td>0.0</td>\n",
       "      <td>0.0</td>\n",
       "      <td>0.0</td>\n",
       "      <td>0.0</td>\n",
       "      <td>0.0</td>\n",
       "      <td>...</td>\n",
       "      <td>0.0</td>\n",
       "      <td>0.0</td>\n",
       "      <td>0.0</td>\n",
       "      <td>0.0</td>\n",
       "      <td>1.0</td>\n",
       "      <td>0.0</td>\n",
       "      <td>0.0</td>\n",
       "      <td>0.0</td>\n",
       "      <td>0.0</td>\n",
       "      <td>0.0</td>\n",
       "    </tr>\n",
       "    <tr>\n",
       "      <th>12</th>\n",
       "      <td>2</td>\n",
       "      <td>50000</td>\n",
       "      <td>1.0</td>\n",
       "      <td>25000</td>\n",
       "      <td>0.0</td>\n",
       "      <td>0.0</td>\n",
       "      <td>0.0</td>\n",
       "      <td>1.0</td>\n",
       "      <td>0.0</td>\n",
       "      <td>0.0</td>\n",
       "      <td>...</td>\n",
       "      <td>0.0</td>\n",
       "      <td>0.0</td>\n",
       "      <td>0.0</td>\n",
       "      <td>0.0</td>\n",
       "      <td>0.0</td>\n",
       "      <td>0.0</td>\n",
       "      <td>0.0</td>\n",
       "      <td>0.0</td>\n",
       "      <td>1.0</td>\n",
       "      <td>0.0</td>\n",
       "    </tr>\n",
       "    <tr>\n",
       "      <th>13</th>\n",
       "      <td>3</td>\n",
       "      <td>160000</td>\n",
       "      <td>3.0</td>\n",
       "      <td>65000</td>\n",
       "      <td>0.0</td>\n",
       "      <td>0.0</td>\n",
       "      <td>0.0</td>\n",
       "      <td>0.0</td>\n",
       "      <td>0.0</td>\n",
       "      <td>0.0</td>\n",
       "      <td>...</td>\n",
       "      <td>0.0</td>\n",
       "      <td>0.0</td>\n",
       "      <td>0.0</td>\n",
       "      <td>0.0</td>\n",
       "      <td>0.0</td>\n",
       "      <td>0.0</td>\n",
       "      <td>0.0</td>\n",
       "      <td>0.0</td>\n",
       "      <td>0.0</td>\n",
       "      <td>1.0</td>\n",
       "    </tr>\n",
       "    <tr>\n",
       "      <th>14</th>\n",
       "      <td>2</td>\n",
       "      <td>45000</td>\n",
       "      <td>1.0</td>\n",
       "      <td>25000</td>\n",
       "      <td>0.0</td>\n",
       "      <td>0.0</td>\n",
       "      <td>0.0</td>\n",
       "      <td>0.0</td>\n",
       "      <td>0.0</td>\n",
       "      <td>0.0</td>\n",
       "      <td>...</td>\n",
       "      <td>0.0</td>\n",
       "      <td>0.0</td>\n",
       "      <td>0.0</td>\n",
       "      <td>0.0</td>\n",
       "      <td>0.0</td>\n",
       "      <td>1.0</td>\n",
       "      <td>1.0</td>\n",
       "      <td>0.0</td>\n",
       "      <td>0.0</td>\n",
       "      <td>0.0</td>\n",
       "    </tr>\n",
       "  </tbody>\n",
       "</table>\n",
       "<p>5 rows × 23 columns</p>\n",
       "</div>"
      ],
      "text/plain": [
       "    type  current_price  years  resell_price  Abuja  Taraba  Kogi  Gombe  \\\n",
       "10     2         320000    1.0        250000    1.0     0.0   0.0    0.0   \n",
       "11     3         250000    2.0        110000    0.0     0.0   0.0    0.0   \n",
       "12     2          50000    1.0         25000    0.0     0.0   0.0    1.0   \n",
       "13     3         160000    3.0         65000    0.0     0.0   0.0    0.0   \n",
       "14     2          45000    1.0         25000    0.0     0.0   0.0    0.0   \n",
       "\n",
       "    Bauchi  Adamawa  ...  Samsung  Blackberry  HTC  Dell   HP  Gionee  Techno  \\\n",
       "10     0.0      0.0  ...      0.0         0.0  0.0   0.0  0.0     0.0     0.0   \n",
       "11     0.0      0.0  ...      0.0         0.0  0.0   0.0  1.0     0.0     0.0   \n",
       "12     0.0      0.0  ...      0.0         0.0  0.0   0.0  0.0     0.0     0.0   \n",
       "13     0.0      0.0  ...      0.0         0.0  0.0   0.0  0.0     0.0     0.0   \n",
       "14     0.0      0.0  ...      0.0         0.0  0.0   0.0  0.0     1.0     1.0   \n",
       "\n",
       "    Apple  Huawei  Lenovo  \n",
       "10    1.0     0.0     0.0  \n",
       "11    0.0     0.0     0.0  \n",
       "12    0.0     1.0     0.0  \n",
       "13    0.0     0.0     1.0  \n",
       "14    0.0     0.0     0.0  \n",
       "\n",
       "[5 rows x 23 columns]"
      ]
     },
     "execution_count": 55,
     "metadata": {},
     "output_type": "execute_result"
    }
   ],
   "source": [
    "origin = raw_data.pop('brand')\n",
    "raw_data['Samsung'] = (origin == 1)*1.0\n",
    "raw_data['Blackberry'] = (origin == 2)*1.0\n",
    "raw_data['HTC'] = (origin == 3)*1.0\n",
    "raw_data['Dell'] = (origin == 4)*1.0\n",
    "raw_data['HP'] = (origin == 5)*1.0\n",
    "raw_data['Gionee'] = (origin == 6)*1.0\n",
    "raw_data['Techno'] = (origin == 6)*1.0\n",
    "raw_data['Apple'] = (origin == 7)*1.0\n",
    "raw_data['Huawei'] = (origin == 8)*1.0\n",
    "raw_data['Lenovo'] = (origin == 9)*1.0\n",
    "raw_data.tail()"
   ]
  },
  {
   "cell_type": "markdown",
   "metadata": {},
   "source": [
    "3.Modify data for train for Device type\n"
   ]
  },
  {
   "cell_type": "code",
   "execution_count": 56,
   "metadata": {},
   "outputs": [
    {
     "data": {
      "text/html": [
       "<div>\n",
       "<style scoped>\n",
       "    .dataframe tbody tr th:only-of-type {\n",
       "        vertical-align: middle;\n",
       "    }\n",
       "\n",
       "    .dataframe tbody tr th {\n",
       "        vertical-align: top;\n",
       "    }\n",
       "\n",
       "    .dataframe thead th {\n",
       "        text-align: right;\n",
       "    }\n",
       "</style>\n",
       "<table border=\"1\" class=\"dataframe\">\n",
       "  <thead>\n",
       "    <tr style=\"text-align: right;\">\n",
       "      <th></th>\n",
       "      <th>current_price</th>\n",
       "      <th>years</th>\n",
       "      <th>resell_price</th>\n",
       "      <th>Abuja</th>\n",
       "      <th>Taraba</th>\n",
       "      <th>Kogi</th>\n",
       "      <th>Gombe</th>\n",
       "      <th>Bauchi</th>\n",
       "      <th>Adamawa</th>\n",
       "      <th>Kano</th>\n",
       "      <th>...</th>\n",
       "      <th>Dell</th>\n",
       "      <th>HP</th>\n",
       "      <th>Gionee</th>\n",
       "      <th>Techno</th>\n",
       "      <th>Apple</th>\n",
       "      <th>Huawei</th>\n",
       "      <th>Lenovo</th>\n",
       "      <th>Tablet</th>\n",
       "      <th>Phone</th>\n",
       "      <th>Laptop</th>\n",
       "    </tr>\n",
       "  </thead>\n",
       "  <tbody>\n",
       "    <tr>\n",
       "      <th>10</th>\n",
       "      <td>320000</td>\n",
       "      <td>1.0</td>\n",
       "      <td>250000</td>\n",
       "      <td>1.0</td>\n",
       "      <td>0.0</td>\n",
       "      <td>0.0</td>\n",
       "      <td>0.0</td>\n",
       "      <td>0.0</td>\n",
       "      <td>0.0</td>\n",
       "      <td>0.0</td>\n",
       "      <td>...</td>\n",
       "      <td>0.0</td>\n",
       "      <td>0.0</td>\n",
       "      <td>0.0</td>\n",
       "      <td>0.0</td>\n",
       "      <td>1.0</td>\n",
       "      <td>0.0</td>\n",
       "      <td>0.0</td>\n",
       "      <td>0.0</td>\n",
       "      <td>1.0</td>\n",
       "      <td>0.0</td>\n",
       "    </tr>\n",
       "    <tr>\n",
       "      <th>11</th>\n",
       "      <td>250000</td>\n",
       "      <td>2.0</td>\n",
       "      <td>110000</td>\n",
       "      <td>0.0</td>\n",
       "      <td>0.0</td>\n",
       "      <td>0.0</td>\n",
       "      <td>0.0</td>\n",
       "      <td>0.0</td>\n",
       "      <td>0.0</td>\n",
       "      <td>1.0</td>\n",
       "      <td>...</td>\n",
       "      <td>0.0</td>\n",
       "      <td>1.0</td>\n",
       "      <td>0.0</td>\n",
       "      <td>0.0</td>\n",
       "      <td>0.0</td>\n",
       "      <td>0.0</td>\n",
       "      <td>0.0</td>\n",
       "      <td>0.0</td>\n",
       "      <td>0.0</td>\n",
       "      <td>1.0</td>\n",
       "    </tr>\n",
       "    <tr>\n",
       "      <th>12</th>\n",
       "      <td>50000</td>\n",
       "      <td>1.0</td>\n",
       "      <td>25000</td>\n",
       "      <td>0.0</td>\n",
       "      <td>0.0</td>\n",
       "      <td>0.0</td>\n",
       "      <td>1.0</td>\n",
       "      <td>0.0</td>\n",
       "      <td>0.0</td>\n",
       "      <td>0.0</td>\n",
       "      <td>...</td>\n",
       "      <td>0.0</td>\n",
       "      <td>0.0</td>\n",
       "      <td>0.0</td>\n",
       "      <td>0.0</td>\n",
       "      <td>0.0</td>\n",
       "      <td>1.0</td>\n",
       "      <td>0.0</td>\n",
       "      <td>0.0</td>\n",
       "      <td>1.0</td>\n",
       "      <td>0.0</td>\n",
       "    </tr>\n",
       "    <tr>\n",
       "      <th>13</th>\n",
       "      <td>160000</td>\n",
       "      <td>3.0</td>\n",
       "      <td>65000</td>\n",
       "      <td>0.0</td>\n",
       "      <td>0.0</td>\n",
       "      <td>0.0</td>\n",
       "      <td>0.0</td>\n",
       "      <td>0.0</td>\n",
       "      <td>0.0</td>\n",
       "      <td>0.0</td>\n",
       "      <td>...</td>\n",
       "      <td>0.0</td>\n",
       "      <td>0.0</td>\n",
       "      <td>0.0</td>\n",
       "      <td>0.0</td>\n",
       "      <td>0.0</td>\n",
       "      <td>0.0</td>\n",
       "      <td>1.0</td>\n",
       "      <td>0.0</td>\n",
       "      <td>0.0</td>\n",
       "      <td>1.0</td>\n",
       "    </tr>\n",
       "    <tr>\n",
       "      <th>14</th>\n",
       "      <td>45000</td>\n",
       "      <td>1.0</td>\n",
       "      <td>25000</td>\n",
       "      <td>0.0</td>\n",
       "      <td>0.0</td>\n",
       "      <td>0.0</td>\n",
       "      <td>0.0</td>\n",
       "      <td>0.0</td>\n",
       "      <td>0.0</td>\n",
       "      <td>0.0</td>\n",
       "      <td>...</td>\n",
       "      <td>0.0</td>\n",
       "      <td>0.0</td>\n",
       "      <td>1.0</td>\n",
       "      <td>1.0</td>\n",
       "      <td>0.0</td>\n",
       "      <td>0.0</td>\n",
       "      <td>0.0</td>\n",
       "      <td>0.0</td>\n",
       "      <td>1.0</td>\n",
       "      <td>0.0</td>\n",
       "    </tr>\n",
       "  </tbody>\n",
       "</table>\n",
       "<p>5 rows × 25 columns</p>\n",
       "</div>"
      ],
      "text/plain": [
       "    current_price  years  resell_price  Abuja  Taraba  Kogi  Gombe  Bauchi  \\\n",
       "10         320000    1.0        250000    1.0     0.0   0.0    0.0     0.0   \n",
       "11         250000    2.0        110000    0.0     0.0   0.0    0.0     0.0   \n",
       "12          50000    1.0         25000    0.0     0.0   0.0    1.0     0.0   \n",
       "13         160000    3.0         65000    0.0     0.0   0.0    0.0     0.0   \n",
       "14          45000    1.0         25000    0.0     0.0   0.0    0.0     0.0   \n",
       "\n",
       "    Adamawa  Kano  ...  Dell   HP  Gionee  Techno  Apple  Huawei  Lenovo  \\\n",
       "10      0.0   0.0  ...   0.0  0.0     0.0     0.0    1.0     0.0     0.0   \n",
       "11      0.0   1.0  ...   0.0  1.0     0.0     0.0    0.0     0.0     0.0   \n",
       "12      0.0   0.0  ...   0.0  0.0     0.0     0.0    0.0     1.0     0.0   \n",
       "13      0.0   0.0  ...   0.0  0.0     0.0     0.0    0.0     0.0     1.0   \n",
       "14      0.0   0.0  ...   0.0  0.0     1.0     1.0    0.0     0.0     0.0   \n",
       "\n",
       "    Tablet  Phone  Laptop  \n",
       "10     0.0    1.0     0.0  \n",
       "11     0.0    0.0     1.0  \n",
       "12     0.0    1.0     0.0  \n",
       "13     0.0    0.0     1.0  \n",
       "14     0.0    1.0     0.0  \n",
       "\n",
       "[5 rows x 25 columns]"
      ]
     },
     "execution_count": 56,
     "metadata": {},
     "output_type": "execute_result"
    }
   ],
   "source": [
    "origin = raw_data.pop('type')\n",
    "raw_data['Tablet'] = (origin == 1)*1.0\n",
    "raw_data['Phone'] = (origin == 2)*1.0\n",
    "raw_data['Laptop'] = (origin == 3)*1.0\n",
    "raw_data.tail()"
   ]
  },
  {
   "cell_type": "code",
   "execution_count": 57,
   "metadata": {},
   "outputs": [],
   "source": [
    "#train dataset\n",
    "train_dataset = raw_data.sample(frac=0.8,random_state=0)\n",
    "test_dataset = raw_data.drop(train_dataset.index)\n",
    "\n",
    "#seperate labels\n",
    "train_labels = train_dataset.pop('resell_price')\n",
    "test_labels = test_dataset.pop('resell_price')"
   ]
  },
  {
   "cell_type": "markdown",
   "metadata": {},
   "source": [
    "# Build a Decision Tree"
   ]
  },
  {
   "cell_type": "code",
   "execution_count": 58,
   "metadata": {},
   "outputs": [
    {
     "data": {
      "text/plain": [
       "(15, 25)"
      ]
     },
     "execution_count": 58,
     "metadata": {},
     "output_type": "execute_result"
    }
   ],
   "source": [
    "raw_data.shape"
   ]
  },
  {
   "cell_type": "code",
   "execution_count": 133,
   "metadata": {},
   "outputs": [],
   "source": [
    "import sklearn as sk\n",
    "clf=sk.tree.DecisionTreeRegressor()\n",
    "clf=clf.fit(np.array(train_dataset.values,dtype='float32'),np.array(train_labels.values,dtype='float32'))\n",
    "\n"
   ]
  },
  {
   "cell_type": "markdown",
   "metadata": {},
   "source": [
    "Now lets test our Model\n",
    "Predict value of an Item from test\n",
    "\n"
   ]
  },
  {
   "cell_type": "code",
   "execution_count": 134,
   "metadata": {
    "scrolled": true
   },
   "outputs": [
    {
     "name": "stdout",
     "output_type": "stream",
     "text": [
      "Features of First Test Item: [1.65e+05 1.00e+00 1.00e+00 0.00e+00 0.00e+00 0.00e+00 0.00e+00 0.00e+00\n",
      " 0.00e+00 0.00e+00 0.00e+00 1.00e+00 0.00e+00 0.00e+00 0.00e+00 0.00e+00\n",
      " 0.00e+00 0.00e+00 0.00e+00 0.00e+00 0.00e+00 1.00e+00 0.00e+00 0.00e+00]\n",
      "Label of First Test Item: 85000\n",
      "Predicted Value= N [95000.]\n"
     ]
    }
   ],
   "source": [
    "print('Features of First Test Item:',test_dataset.values[0])\n",
    "print('Label of First Test Item:',test_labels.values[0])\n",
    "\n",
    "feature=np.array(test_dataset.values[0],dtype='float32').reshape(1,24)\n",
    "\n",
    "#Now Predict\n",
    "print('Predicted Value= N',clf.predict(feature))"
   ]
  },
  {
   "cell_type": "markdown",
   "metadata": {},
   "source": [
    "# K Nearest Neighbours"
   ]
  },
  {
   "cell_type": "code",
   "execution_count": 136,
   "metadata": {
    "scrolled": true
   },
   "outputs": [
    {
     "name": "stdout",
     "output_type": "stream",
     "text": [
      "Features of First Test Item: [1.65e+05 1.00e+00 1.00e+00 0.00e+00 0.00e+00 0.00e+00 0.00e+00 0.00e+00\n",
      " 0.00e+00 0.00e+00 0.00e+00 1.00e+00 0.00e+00 0.00e+00 0.00e+00 0.00e+00\n",
      " 0.00e+00 0.00e+00 0.00e+00 0.00e+00 0.00e+00 1.00e+00 0.00e+00 0.00e+00]\n",
      "Label of First Test Item: 85000\n",
      "Predicted Value= N [81000.]\n"
     ]
    }
   ],
   "source": [
    "clf_opt2=sk.neighbors.KNeighborsRegressor()\n",
    "clf_opt2=clf_opt2.fit(np.array(train_dataset.values,dtype='float32'),np.array(train_labels.values,dtype='float32'))\n",
    "\n",
    "print('Features of First Test Item:',test_dataset.values[0])\n",
    "print('Label of First Test Item:',test_labels.values[0])\n",
    "\n",
    "feature=np.array(test_dataset.values[0],dtype='float32').reshape(1,24)\n",
    "\n",
    "#Now Predict\n",
    "print('Predicted Value= N',clf_opt2.predict(feature))"
   ]
  },
  {
   "cell_type": "markdown",
   "metadata": {},
   "source": [
    "# Saving the Model"
   ]
  },
  {
   "cell_type": "code",
   "execution_count": 144,
   "metadata": {},
   "outputs": [
    {
     "name": "stdout",
     "output_type": "stream",
     "text": [
      "Features of First Test Item: [5.e+04 1.e+00 0.e+00 0.e+00 0.e+00 1.e+00 0.e+00 0.e+00 0.e+00 0.e+00\n",
      " 0.e+00 0.e+00 0.e+00 0.e+00 0.e+00 0.e+00 0.e+00 0.e+00 0.e+00 1.e+00\n",
      " 0.e+00 0.e+00 1.e+00 0.e+00]\n",
      "Label of First Test Item: 25000\n",
      "Predicted Value= N [23200.]\n"
     ]
    }
   ],
   "source": [
    "sk.externals.joblib.dump(clf_opt2,'C:\\\\Users\\\\Samuel Theophilus\\\\PycharmProjects\\\\model.pkl')\n",
    "\n",
    "#load model from file\n",
    "model=sk.externals.joblib.load('C:\\\\Users\\\\Samuel Theophilus\\\\PycharmProjects\\\\model.pkl')\n",
    "\n",
    "\n",
    "#test that Model works fine with 3 item\n",
    "print('Features of First Test Item:',test_dataset.values[2])\n",
    "print('Label of First Test Item:',test_labels.values[2])\n",
    "\n",
    "feature=np.array(test_dataset.values[2],dtype='float32').reshape(1,24)\n",
    "\n",
    "#Now Predict\n",
    "print('Predicted Value= N',model.predict(feature))"
   ]
  },
  {
   "cell_type": "code",
   "execution_count": null,
   "metadata": {},
   "outputs": [],
   "source": []
  }
 ],
 "metadata": {
  "kernelspec": {
   "display_name": "Python 3",
   "language": "python",
   "name": "python3"
  },
  "language_info": {
   "codemirror_mode": {
    "name": "ipython",
    "version": 3
   },
   "file_extension": ".py",
   "mimetype": "text/x-python",
   "name": "python",
   "nbconvert_exporter": "python",
   "pygments_lexer": "ipython3",
   "version": "3.7.3"
  }
 },
 "nbformat": 4,
 "nbformat_minor": 2
}
