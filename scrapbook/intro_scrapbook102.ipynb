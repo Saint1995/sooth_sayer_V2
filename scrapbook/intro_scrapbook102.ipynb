{
 "cells": [
  {
   "cell_type": "markdown",
   "metadata": {},
   "source": [
    "# Importing & Visualizing Data"
   ]
  },
  {
   "cell_type": "markdown",
   "metadata": {},
   "source": [
    "In this Note I worked through some basic concepts used to import data using the Pandas Library and also explored different ways to Visualize Data. This tools make it easy to import, structure & Visual Data from different sources. \n",
    "\n",
    "So let's start by input our data and working through some basic functions."
   ]
  },
  {
   "cell_type": "code",
   "execution_count": 40,
   "metadata": {},
   "outputs": [],
   "source": [
    "import numpy as np\n",
    "import pandas as pd\n",
    "import matplotlib.pyplot as plt"
   ]
  },
  {
   "cell_type": "code",
   "execution_count": 2,
   "metadata": {},
   "outputs": [
    {
     "name": "stdout",
     "output_type": "stream",
     "text": [
      "0     2\n",
      "1     3\n",
      "2    42\n",
      "3    24\n",
      "4     4\n",
      "dtype: int64\n"
     ]
    }
   ],
   "source": [
    "#create a Series from a list\n",
    "x= pd.Series([2,3,42,24,4])\n",
    "print(x)"
   ]
  },
  {
   "cell_type": "code",
   "execution_count": 3,
   "metadata": {},
   "outputs": [
    {
     "data": {
      "text/plain": [
       "Index(['Ada', 'Ruth', 'Samson', 'Peter', 'Nneka'], dtype='object')"
      ]
     },
     "execution_count": 3,
     "metadata": {},
     "output_type": "execute_result"
    }
   ],
   "source": [
    "#convert a Dictionary to Series\n",
    "former_dic={'Ada':23,'Ruth':20,'Samson':26,'Peter':18,'Nneka':19}\n",
    "\n",
    "student_ages=pd.Series(former_dic)\n",
    "\n",
    "#display index\n",
    "student_ages.index"
   ]
  },
  {
   "cell_type": "code",
   "execution_count": 7,
   "metadata": {},
   "outputs": [
    {
     "name": "stdout",
     "output_type": "stream",
     "text": [
      "Ruth      20\n",
      "Samson    26\n",
      "Peter     18\n",
      "dtype: int64\n"
     ]
    }
   ],
   "source": [
    "#slicing in Series\n",
    "print(student_ages['Ruth':'Peter'])\n",
    "#sorting series\n"
   ]
  },
  {
   "cell_type": "code",
   "execution_count": 15,
   "metadata": {
    "scrolled": true
   },
   "outputs": [
    {
     "name": "stdout",
     "output_type": "stream",
     "text": [
      "        gender  ages\n",
      "Ada          2    23\n",
      "Ruth         2    20\n",
      "Samson       1    26\n",
      "Peter        1    18\n",
      "Nneka        2    19\n"
     ]
    }
   ],
   "source": [
    "#create a Dataframe frame using two Series\n",
    "\n",
    "gender=pd.Series([2,2,1,1,2],index=student_ages.index) #2-female, 1-male\n",
    "\n",
    "student_data=pd.DataFrame({'gender':gender,'ages':student_ages})\n",
    "print(student_data)"
   ]
  },
  {
   "cell_type": "markdown",
   "metadata": {},
   "source": [
    "## Handling Missing Data\n",
    "Lets consider the academic result of two 100level students and try to manage missing data. We will try to handle missng scores in different courses."
   ]
  },
  {
   "cell_type": "code",
   "execution_count": 16,
   "metadata": {},
   "outputs": [
    {
     "name": "stdout",
     "output_type": "stream",
     "text": [
      "        cmp101  mth103  sta111\n",
      "Andrew    78.0     NaN      98\n",
      "Rose       NaN    56.0      95\n"
     ]
    }
   ],
   "source": [
    "score_sheet=pd.DataFrame([{'cmp101':78,'sta111':98},{'sta111':95,'mth103':56}],index=['Andrew','Rose'])\n",
    "\n",
    "print(score_sheet)"
   ]
  },
  {
   "cell_type": "code",
   "execution_count": 22,
   "metadata": {
    "scrolled": true
   },
   "outputs": [
    {
     "name": "stdout",
     "output_type": "stream",
     "text": [
      "        cmp101  mth103  sta111\n",
      "Andrew    78.0     0.0      98\n",
      "Rose       0.0    56.0      95\n",
      "        cmp101  mth103  sta111\n",
      "Andrew   False    True   False\n",
      "Rose      True   False   False\n"
     ]
    }
   ],
   "source": [
    "#fill values with Zero\n",
    "print(score_sheet.fillna(0))\n",
    "\n",
    "print(score_sheet.isnull())"
   ]
  },
  {
   "cell_type": "code",
   "execution_count": 23,
   "metadata": {},
   "outputs": [
    {
     "name": "stdout",
     "output_type": "stream",
     "text": [
      "        cmp101  mth103  sta111\n",
      "Andrew    78.0    78.0    98.0\n",
      "Rose       NaN    56.0    95.0\n",
      "[[78. nan 98.]\n",
      " [nan 56. 95.]]\n",
      "        cmp101  mth103\n",
      "Andrew    78.0     NaN\n",
      "Rose       NaN    56.0\n"
     ]
    }
   ],
   "source": [
    "print(score_sheet.fillna(method='ffill',axis=1))\n",
    "\n",
    "#access values only\n",
    "print(score_sheet.values)\n",
    "\n",
    "#remove columns\n",
    "score_sheet.pop('sta111')\n",
    "print(score_sheet)"
   ]
  },
  {
   "cell_type": "markdown",
   "metadata": {},
   "source": [
    "# Importing Data into Pandas\n",
    "Now lets import some real data, I sourced this data from Koenma and its contains information of \"Population of Nigeria\". Lets try a few operations and try to visualize the Data."
   ]
  },
  {
   "cell_type": "code",
   "execution_count": 24,
   "metadata": {},
   "outputs": [
    {
     "name": "stdout",
     "output_type": "stream",
     "text": [
      "        state                        indicator    item     Unit  Date  \\\n",
      "0     Nigeria            Population of Nigeria    Male  Persons  1991   \n",
      "1     Nigeria            Population of Nigeria    Male  Persons  2006   \n",
      "2     Nigeria            Population of Nigeria  Female  Persons  1991   \n",
      "3     Nigeria            Population of Nigeria  Female  Persons  2006   \n",
      "4     Nigeria            Population of Nigeria   Total  Persons  1991   \n",
      "5     Nigeria            Population of Nigeria   Total  Persons  2006   \n",
      "6     Nigeria            Population of Nigeria   Total  Persons  2007   \n",
      "7     Nigeria            Population of Nigeria   Total  Persons  2008   \n",
      "8     Nigeria            Population of Nigeria   Total  Persons  2009   \n",
      "9     Nigeria            Population of Nigeria   Total  Persons  2010   \n",
      "10    Nigeria            Population of Nigeria   Total  Persons  2011   \n",
      "11    Nigeria            Population of Nigeria   Total  Persons  2012   \n",
      "12    Nigeria            Population of Nigeria   Total  Persons  2013   \n",
      "13    Nigeria            Population of Nigeria   Total  Persons  2014   \n",
      "14    Nigeria            Population of Nigeria   Total  Persons  2015   \n",
      "15    Nigeria            Population of Nigeria   Total  Persons  2016   \n",
      "16    Nigeria                           Female    Male  Persons  1991   \n",
      "17    Nigeria                    Sex Ratio (%)    Male        %  1991   \n",
      "18    Nigeria                             Male    Male  Persons  1991   \n",
      "19    Nigeria  Projected Population of Nigeria    Male  Persons  2007   \n",
      "20    Nigeria  Projected Population of Nigeria    Male  Persons  2008   \n",
      "21    Nigeria  Projected Population of Nigeria    Male  Persons  2009   \n",
      "22    Nigeria  Projected Population of Nigeria  Female  Persons  2007   \n",
      "23    Nigeria  Projected Population of Nigeria  Female  Persons  2008   \n",
      "24    Nigeria  Projected Population of Nigeria  Female  Persons  2009   \n",
      "25    Nigeria  Projected Population of Nigeria   Total  Persons  2007   \n",
      "26    Nigeria  Projected Population of Nigeria   Total  Persons  2008   \n",
      "27    Nigeria  Projected Population of Nigeria   Total  Persons  2009   \n",
      "28    Nigeria                             Male   Total  Persons  2006   \n",
      "29    Nigeria                           Female   Total  Persons  2006   \n",
      "...       ...                              ...     ...      ...   ...   \n",
      "1032     Yobe  Projected Population of Nigeria    Male  Persons  2009   \n",
      "1033     Yobe  Projected Population of Nigeria  Female  Persons  2007   \n",
      "1034     Yobe  Projected Population of Nigeria  Female  Persons  2008   \n",
      "1035     Yobe  Projected Population of Nigeria  Female  Persons  2009   \n",
      "1036     Yobe  Projected Population of Nigeria   Total  Persons  2007   \n",
      "1037     Yobe  Projected Population of Nigeria   Total  Persons  2008   \n",
      "1038     Yobe  Projected Population of Nigeria   Total  Persons  2009   \n",
      "1039     Yobe                            Total    Male        %  1991   \n",
      "1040  Zamfara            Population of Nigeria    Male  Persons  2006   \n",
      "1041  Zamfara            Population of Nigeria  Female  Persons  2006   \n",
      "1042  Zamfara            Population of Nigeria   Total  Persons  2006   \n",
      "1043  Zamfara            Population of Nigeria   Total  Persons  2007   \n",
      "1044  Zamfara            Population of Nigeria   Total  Persons  2008   \n",
      "1045  Zamfara            Population of Nigeria   Total  Persons  2009   \n",
      "1046  Zamfara            Population of Nigeria   Total  Persons  2010   \n",
      "1047  Zamfara            Population of Nigeria   Total  Persons  2011   \n",
      "1048  Zamfara            Population of Nigeria   Total  Persons  2012   \n",
      "1049  Zamfara            Population of Nigeria   Total  Persons  2013   \n",
      "1050  Zamfara            Population of Nigeria   Total  Persons  2014   \n",
      "1051  Zamfara            Population of Nigeria   Total  Persons  2015   \n",
      "1052  Zamfara            Population of Nigeria   Total  Persons  2016   \n",
      "1053  Zamfara  Projected Population of Nigeria    Male  Persons  2007   \n",
      "1054  Zamfara  Projected Population of Nigeria    Male  Persons  2008   \n",
      "1055  Zamfara  Projected Population of Nigeria    Male  Persons  2009   \n",
      "1056  Zamfara  Projected Population of Nigeria  Female  Persons  2007   \n",
      "1057  Zamfara  Projected Population of Nigeria  Female  Persons  2008   \n",
      "1058  Zamfara  Projected Population of Nigeria  Female  Persons  2009   \n",
      "1059  Zamfara  Projected Population of Nigeria   Total  Persons  2007   \n",
      "1060  Zamfara  Projected Population of Nigeria   Total  Persons  2008   \n",
      "1061  Zamfara  Projected Population of Nigeria   Total  Persons  2009   \n",
      "\n",
      "             Value  \n",
      "0     4.452961e+07  \n",
      "1     7.134549e+07  \n",
      "2     4.446261e+07  \n",
      "3     6.908630e+07  \n",
      "4     8.899220e+07  \n",
      "5     1.404318e+08  \n",
      "6     1.449983e+08  \n",
      "7     1.497133e+08  \n",
      "8     1.545816e+08  \n",
      "9     1.596082e+08  \n",
      "10    1.647982e+08  \n",
      "11    1.701571e+08  \n",
      "12    1.756901e+08  \n",
      "13    1.814031e+08  \n",
      "14    1.873019e+08  \n",
      "15    1.933925e+08  \n",
      "16    4.446261e+07  \n",
      "17    1.001500e+02  \n",
      "18    4.452961e+07  \n",
      "19    7.362854e+07  \n",
      "20    7.598466e+07  \n",
      "21    7.841617e+07  \n",
      "22    7.129706e+07  \n",
      "23    7.357857e+07  \n",
      "24    7.593308e+07  \n",
      "25    1.449256e+08  \n",
      "26    1.495632e+08  \n",
      "27    1.543492e+08  \n",
      "28    7.134549e+07  \n",
      "29    6.908630e+07  \n",
      "...            ...  \n",
      "1032  1.336043e+06  \n",
      "1033  1.155376e+06  \n",
      "1034  1.195814e+06  \n",
      "1035  1.237667e+06  \n",
      "1036  2.402586e+06  \n",
      "1037  2.486676e+06  \n",
      "1038  2.573710e+06  \n",
      "1039  9.240000e+01  \n",
      "1040  1.641623e+06  \n",
      "1041  1.637250e+06  \n",
      "1042  3.278873e+06  \n",
      "1043  3.385494e+06  \n",
      "1044  3.495582e+06  \n",
      "1045  3.609249e+06  \n",
      "1046  3.726613e+06  \n",
      "1047  3.847793e+06  \n",
      "1048  3.972914e+06  \n",
      "1049  4.102103e+06  \n",
      "1050  4.235493e+06  \n",
      "1051  4.373221e+06  \n",
      "1052  4.515427e+06  \n",
      "1053  1.694155e+06  \n",
      "1054  1.748368e+06  \n",
      "1055  1.804316e+06  \n",
      "1056  1.689642e+06  \n",
      "1057  1.743711e+06  \n",
      "1058  1.799509e+06  \n",
      "1059  3.383797e+06  \n",
      "1060  3.492078e+06  \n",
      "1061  3.603825e+06  \n",
      "\n",
      "[1062 rows x 6 columns]\n"
     ]
    }
   ],
   "source": [
    "nig_data=pd.read_csv('data2.csv')\n",
    "print(nig_data)"
   ]
  },
  {
   "cell_type": "code",
   "execution_count": 35,
   "metadata": {},
   "outputs": [
    {
     "name": "stdout",
     "output_type": "stream",
     "text": [
      "    Date        Value\n",
      "4   1991   88992201.0\n",
      "5   2006  140431790.0\n",
      "6   2007  144998281.0\n",
      "7   2008  149713264.0\n",
      "8   2009  154581566.0\n",
      "9   2010  159608173.0\n",
      "10  2011  164798232.0\n",
      "11  2012  170157060.0\n",
      "12  2013  175690143.0\n",
      "13  2014  181403148.0\n",
      "14  2015  187301926.0\n",
      "15  2016  193392517.0\n"
     ]
    }
   ],
   "source": [
    "#query the data and group\n",
    "total_nigeria=nig_data.query(\"indicator=='Population of Nigeria' & state=='Nigeria' & item=='Total'\")\n",
    "\n",
    "\n",
    "#remove unnecessary rows\n",
    "total_nigeria.pop('indicator')\n",
    "total_nigeria.pop('state')\n",
    "total_nigeria.pop('item')\n",
    "total_nigeria.pop('Unit')\n",
    "\n",
    "print(total_nigeria)\n"
   ]
  },
  {
   "cell_type": "code",
   "execution_count": 48,
   "metadata": {},
   "outputs": [
    {
     "name": "stdout",
     "output_type": "stream",
     "text": [
      "12652397.0\n",
      "        state  Date      Value\n",
      "35      Abuja  1991   371674.0\n",
      "36      Abuja  2006  1406239.0\n",
      "37      Abuja  2007  1543293.0\n",
      "38      Abuja  2008  1693706.0\n",
      "39      Abuja  2009  1858777.0\n",
      "40      Abuja  2010  2039937.0\n",
      "41      Abuja  2011  2238752.0\n",
      "42      Abuja  2012  2456945.0\n",
      "43      Abuja  2013  2696403.0\n",
      "44      Abuja  2014  2959199.0\n",
      "45      Abuja  2015  3247608.0\n",
      "46      Abuja  2016  3564126.0\n",
      "64       Abia  1991  2338487.0\n",
      "65       Abia  2006  2845380.0\n",
      "66       Abia  2007  2923252.0\n",
      "67       Abia  2008  3003255.0\n",
      "68       Abia  2009  3085447.0\n",
      "69       Abia  2010  3169889.0\n",
      "70       Abia  2011  3256642.0\n",
      "71       Abia  2012  3345769.0\n",
      "72       Abia  2013  3437336.0\n",
      "73       Abia  2014  3531408.0\n",
      "74       Abia  2015  3628055.0\n",
      "75       Abia  2016  3727347.0\n",
      "93    Adamawa  1991  2102053.0\n",
      "94    Adamawa  2006  3178950.0\n",
      "95    Adamawa  2007  3272489.0\n",
      "96    Adamawa  2008  3368781.0\n",
      "97    Adamawa  2009  3467906.0\n",
      "98    Adamawa  2010  3569948.0\n",
      "...       ...   ...        ...\n",
      "991    Taraba  2010  2577051.0\n",
      "992    Taraba  2011  2652880.0\n",
      "993    Taraba  2012  2730940.0\n",
      "994    Taraba  2013  2811296.0\n",
      "995    Taraba  2014  2894018.0\n",
      "996    Taraba  2015  2979173.0\n",
      "997    Taraba  2016  3066834.0\n",
      "1015     Yobe  1991  1399687.0\n",
      "1016     Yobe  2006  2321339.0\n",
      "1017     Yobe  2007  2404024.0\n",
      "1018     Yobe  2008  2489655.0\n",
      "1019     Yobe  2009  2578336.0\n",
      "1020     Yobe  2010  2670175.0\n",
      "1021     Yobe  2011  2765286.0\n",
      "1022     Yobe  2012  2863785.0\n",
      "1023     Yobe  2013  2965792.0\n",
      "1024     Yobe  2014  3071433.0\n",
      "1025     Yobe  2015  3180836.0\n",
      "1026     Yobe  2016  3294137.0\n",
      "1042  Zamfara  2006  3278873.0\n",
      "1043  Zamfara  2007  3385494.0\n",
      "1044  Zamfara  2008  3495582.0\n",
      "1045  Zamfara  2009  3609249.0\n",
      "1046  Zamfara  2010  3726613.0\n",
      "1047  Zamfara  2011  3847793.0\n",
      "1048  Zamfara  2012  3972914.0\n",
      "1049  Zamfara  2013  4102103.0\n",
      "1050  Zamfara  2014  4235493.0\n",
      "1051  Zamfara  2015  4373221.0\n",
      "1052  Zamfara  2016  4515427.0\n",
      "\n",
      "[438 rows x 3 columns]\n"
     ]
    }
   ],
   "source": [
    "nigerian_states=nig_data.query(\"indicator=='Population of Nigeria' & state!='Nigeria' & item=='Total'\")\n",
    "#remove unnecessary rows\n",
    "nigerian_states.pop('indicator')\n",
    "nigerian_states.pop('item')\n",
    "nigerian_states.pop('Unit')\n",
    "print(nigerian_states)"
   ]
  },
  {
   "cell_type": "code",
   "execution_count": 99,
   "metadata": {},
   "outputs": [
    {
     "data": {
      "image/png": "[encoded data removed]",
      "text/plain": [
       "<Figure size 432x288 with 1 Axes>"
      ]
     },
     "metadata": {
      "needs_background": "light"
     },
     "output_type": "display_data"
    }
   ],
   "source": [
    "#plot a histogram\n",
    "\n",
    "#get maximuim value\n",
    "height=np.max(nigerian_states.query(\"Date=='2015'\")['Value'].values)\n",
    "labels=nigerian_states.query(\"Date=='2015'\")['state'].values\n",
    "population=nigerian_states.query(\"Date=='2015'\")['Value'].values\n",
    "\n",
    "y = np.arange(len(labels))\n",
    "\n",
    "plt.barh(y,population,alpha=0.9)\n",
    "plt.yticks(y,labels,fontsize=6)\n",
    "plt.xlabel('Population')\n",
    "plt.title('Nigerian Population Distribution- Year 2015')\n",
    "plt.show()\n",
    "#plt.plot(x,y,population)"
   ]
  },
  {
   "cell_type": "code",
   "execution_count": 126,
   "metadata": {},
   "outputs": [
    {
     "data": {
      "image/png": "[encoded data removed]",
      "text/plain": [
       "<Figure size 432x288 with 1 Axes>"
      ]
     },
     "metadata": {},
     "output_type": "display_data"
    }
   ],
   "source": [
    "#Plat piechart of Females to Males n Nigeria in 2006\n",
    "gender=nig_data.query(\"indicator=='Population of Nigeria' & Date=='2006' & state=='Nigeria' & (item=='Female' | item=='Male')\")['Value'].values\n",
    "labels=['Females','Males']\n",
    "\n",
    "\n",
    "plt.pie(gender,labels=labels)\n",
    "plt.title('Nigerian Gender Population Distribution- Year 2006')\n",
    "plt.show()\n"
   ]
  },
  {
   "cell_type": "code",
   "execution_count": null,
   "metadata": {},
   "outputs": [],
   "source": []
  },
  {
   "cell_type": "code",
   "execution_count": null,
   "metadata": {},
   "outputs": [],
   "source": []
  }
 ],
 "metadata": {
  "kernelspec": {
   "display_name": "Python 3",
   "language": "python",
   "name": "python3"
  },
  "language_info": {
   "codemirror_mode": {
    "name": "ipython",
    "version": 3
   },
   "file_extension": ".py",
   "mimetype": "text/x-python",
   "name": "python",
   "nbconvert_exporter": "python",
   "pygments_lexer": "ipython3",
   "version": "3.7.3"
  }
 },
 "nbformat": 4,
 "nbformat_minor": 2
}
